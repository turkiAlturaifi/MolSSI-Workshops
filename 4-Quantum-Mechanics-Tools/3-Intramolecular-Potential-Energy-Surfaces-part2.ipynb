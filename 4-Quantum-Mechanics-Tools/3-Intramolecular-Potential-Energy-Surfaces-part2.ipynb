{
 "cells": [
  {
   "cell_type": "markdown",
   "metadata": {},
   "source": [
    "# Quantum Mechanics Tools\n",
    "## Section 3: Intramolecular Potential Energy Surfaces part 1\n",
    "__Questions__\n",
    "\n",
    "How do I calculate a potential energy surface for the interaction between two molecules?\n",
    "\n",
    "__Objectives__\n",
    "\n",
    "Use a z-matrix representation to specify the geometry of a molecule or complex.\n",
    "\n",
    "Use a nested for loop to vary two molecular parameters in a calculation.\n",
    "\n",
    "Use a 2D and 3D plots to visualize data.\n",
    "\n",
    "### Overview\n",
    "\n",
    "In this exercise we will scan the intermolecular potential energy surfaces of a pair of molecules (dimer): the water dimer.\n",
    "\n",
    "### Specifying water dimer geometry\n",
    "\n",
    "Here you will setup your the potential energy surface scans. The first step is to create your molecule using what is called a __z-matrix specification. In this type of geometry specification, you specify the geometry of a molecule through connectivity, that is, by listing each atom and defining its connectivity to other atoms.__"
   ]
  },
  {
   "cell_type": "code",
   "execution_count": 1,
   "metadata": {},
   "outputs": [],
   "source": [
    "import psi4\n",
    "import numpy as np\n",
    "%matplotlib inline\n",
    "import matplotlib.pyplot as plt"
   ]
  },
  {
   "cell_type": "code",
   "execution_count": 2,
   "metadata": {},
   "outputs": [],
   "source": [
    "# set the amount of memory that you will need\n",
    "psi4.set_memory('500 MB')\n",
    "\n",
    "# set the molecule name for your files and plots\n",
    "molecule_name = \"h2o-dimer\"\n",
    "\n",
    "# Define water dimer\n",
    "water_dimer = \"\"\"\n",
    "O1\n",
    "H2 1 1.0\n",
    "H3 1 1.0 2 104.52\n",
    "x4 2 1.0 1 90.0 3 180.0\n",
    "--\n",
    "O5 2 **R** 4 90.0 1 180.0\n",
    "H6 5 1.0 2 120.0 4 90.0\n",
    "H7 5 1.0 2 120.0 4 -90.0\n",
    "\"\"\""
   ]
  },
  {
   "cell_type": "markdown",
   "metadata": {},
   "source": [
    "### Scan 1D PES\n",
    "\n",
    "Now we will perform a one-dimensional (1D) scan of the water dimer as the intermolecular distance between the two molecules is increased. The scan will be performed along the vector connecting the two oxygen atoms of the molecule.\n",
    "\n",
    "Since the monomer geometries are not changing and since we don’t care about the absolute energy, we will be computing the interaction energy. For a dimer the interaction energy is calculated by subtracting the energy of the monomers from the energy of the dimer. This is done automatically by using the command bsse_type='cp'."
   ]
  },
  {
   "cell_type": "code",
   "execution_count": 5,
   "metadata": {},
   "outputs": [
    {
     "name": "stdout",
     "output_type": "stream",
     "text": [
      "Finished computing the potential energy surface!\n"
     ]
    }
   ],
   "source": [
    "rvals = [1.4, 1.5, 1.6, 1.7, 1.8, 1.9, 2.0, 2.1, 2.2, 2.3, 2.4, 2.5, 3.0, 3.5] \n",
    "energies = []\n",
    "for r in rvals:\n",
    "    # Build a new molecule at each separation\n",
    "    mol = psi4.geometry(water_dimer.replace('**R**', str(r)))\n",
    "\n",
    "    # Compute the interaction energy\n",
    "    E = psi4.energy('scf/aug-cc-pVDZ', molecule=mol, bsse_type='cp')\n",
    "\n",
    "    # Place in a reasonable unit, kcal/mole in this case\n",
    "    E = E*627.509\n",
    "\n",
    "    # Append the value to our list\n",
    "    energies.append(E)\n",
    "\n",
    "print(\"Finished computing the potential energy surface!\")"
   ]
  },
  {
   "cell_type": "code",
   "execution_count": 41,
   "metadata": {},
   "outputs": [
    {
     "data": {
      "image/png": "[encoded data removed]",
      "text/plain": [
       "<Figure size 432x288 with 1 Axes>"
      ]
     },
     "metadata": {
      "needs_background": "light"
     },
     "output_type": "display_data"
    }
   ],
   "source": [
    "#Plot the energies vs. separation of the two oxygen atoms (R).\n",
    "\n",
    "plt.figure()\n",
    "plt.plot(rvals, energies,'bo-')\n",
    "plt.xlabel('O--O distance (angstroms)')\n",
    "plt.ylabel('energy (kcal/mol)')\n",
    "plt.title('water dimer interaction energy')\n",
    "plt.savefig('water_dimer_1D.png',dpi=300)\n",
    "plt.show()"
   ]
  },
  {
   "cell_type": "markdown",
   "metadata": {},
   "source": [
    "### Scan 2D PES\n",
    "\n",
    "Now let’s get even more detailed! Instead of simply scanning the PES along a single coordinate, let’s consider two coordinates at the same time. For this, we will choose to look at (1) the distance between the two molecules, and (2) a rotation of one of the molecules about the distance vector.\n",
    "\n",
    "To do this, the first thing we need to do is redefine our z-matrix to define the angle we want to change. To maintain the water molecule as planar, we need to adjust two dihedral angles, such that one angle is always 180 from the other. We will define one of these dihedral angles as A and the other as B."
   ]
  },
  {
   "cell_type": "code",
   "execution_count": 15,
   "metadata": {},
   "outputs": [],
   "source": [
    "# Define water dimer\n",
    "water_dimer2 = \"\"\"\n",
    "O1\n",
    "H2 1 1.0\n",
    "H3 1 1.0 2 104.52\n",
    "x4 2 1.0 1 90.0 3 180.0\n",
    "--\n",
    "O5 2 **R** 4 90.0 1 180.0\n",
    "H6 5 1.0 2 120.0 4 **A**\n",
    "H7 5 1.0 2 120.0 4 **B**\n",
    "\"\"\""
   ]
  },
  {
   "cell_type": "markdown",
   "metadata": {},
   "source": [
    "First, let’s choose one value of R and rotate through many dihedral angles. Since we want our water to remain planar, the two dihedral angles aren’t actually independent; they must always be 180 degrees apart. Therefore, we will choose a range of values for A, and then calculate B based on the value of A. We will create a list called energies_R to store our energy values for this particular value of R."
   ]
  },
  {
   "cell_type": "code",
   "execution_count": 16,
   "metadata": {},
   "outputs": [
    {
     "name": "stdout",
     "output_type": "stream",
     "text": [
      "Computing dimer at 1.8 angstroms and -180.00 degrees\n",
      "Computing dimer at 1.8 angstroms and -165.00 degrees\n",
      "Computing dimer at 1.8 angstroms and -150.00 degrees\n",
      "Computing dimer at 1.8 angstroms and -135.00 degrees\n",
      "Computing dimer at 1.8 angstroms and -120.00 degrees\n",
      "Computing dimer at 1.8 angstroms and -105.00 degrees\n",
      "Computing dimer at 1.8 angstroms and -90.00 degrees\n",
      "Computing dimer at 1.8 angstroms and -75.00 degrees\n",
      "Computing dimer at 1.8 angstroms and -60.00 degrees\n",
      "Computing dimer at 1.8 angstroms and -45.00 degrees\n",
      "Computing dimer at 1.8 angstroms and -30.00 degrees\n",
      "Computing dimer at 1.8 angstroms and -15.00 degrees\n",
      "Computing dimer at 1.8 angstroms and 0.00 degrees\n",
      "Computing dimer at 1.8 angstroms and 15.00 degrees\n",
      "Computing dimer at 1.8 angstroms and 30.00 degrees\n",
      "Computing dimer at 1.8 angstroms and 45.00 degrees\n",
      "Computing dimer at 1.8 angstroms and 60.00 degrees\n",
      "Computing dimer at 1.8 angstroms and 75.00 degrees\n",
      "Computing dimer at 1.8 angstroms and 90.00 degrees\n",
      "Computing dimer at 1.8 angstroms and 105.00 degrees\n",
      "Computing dimer at 1.8 angstroms and 120.00 degrees\n",
      "Computing dimer at 1.8 angstroms and 135.00 degrees\n",
      "Computing dimer at 1.8 angstroms and 150.00 degrees\n",
      "Computing dimer at 1.8 angstroms and 165.00 degrees\n",
      "Computing dimer at 1.8 angstroms and 180.00 degrees\n"
     ]
    }
   ],
   "source": [
    "R = 1.8\n",
    "Avals = np.linspace(start=-180,stop=180, num=25)\n",
    "\n",
    "energies_R = []\n",
    "\n",
    "for A in Avals:\n",
    "\n",
    "    print(F'Computing dimer at {R:.1f} angstroms and {A:.2f} degrees')\n",
    "\n",
    "    # Build a new molecule at each separation\n",
    "    B = A-180\n",
    "    molR = water_dimer2.replace('**R**', str(R))\n",
    "    molA = molR.replace('**A**', str(A))\n",
    "    molB = molA.replace('**B**', str(B))\n",
    "    mol = psi4.geometry(molB)\n",
    "\n",
    "    # calculate energy\n",
    "    psi4.set_output_file(F'{molecule_name}_{R:.1f}_{A:.2f}_energy.dat', False)\n",
    "    E = psi4.energy('scf/aug-cc-pVDZ', molecule=mol, bsse_type='cp')       \n",
    "    E = E*627.509\n",
    "    energies_R.append(E)"
   ]
  },
  {
   "cell_type": "code",
   "execution_count": 42,
   "metadata": {},
   "outputs": [
    {
     "data": {
      "image/png": "[encoded data removed]",
      "text/plain": [
       "<Figure size 432x288 with 1 Axes>"
      ]
     },
     "metadata": {
      "needs_background": "light"
     },
     "output_type": "display_data"
    }
   ],
   "source": [
    "# Plot the energy as a function of the dihedral angle A.\n",
    "\n",
    "plt.figure()\n",
    "plt.plot(Avals, energies_R, 'ro-')\n",
    "plt.xlabel('diherdral angle (degrees)')\n",
    "plt.ylabel('energy (kcal/mol)')\n",
    "plt.title('water dimer interaction energy dihedral')\n",
    "plt.savefig('water_dimer_2D.png',dpi=300)\n",
    "plt.show()"
   ]
  },
  {
   "cell_type": "markdown",
   "metadata": {},
   "source": [
    "Now let’s expand to two degrees of freedom. We will use the same angles as before, but now instead of just doing all the calculations at a single value of R, we will do the calculation at multiple values of R. To do this, we will use a nested for loop. This means we will have an outer for loop that counts over the different values of R and then an inner for loop that counts over the different values of A for a particular value of R. As we calculate the energies at each angle for a particular value of R, we will save the values in a list called energies_R as we did before. Once we have finished all the angles for a particular R, we will append the list energies_R to a list called energy_2D. This means energy_2D will be a list of lists. We will need to create energy_2D as an empty list outside of our for loop."
   ]
  },
  {
   "cell_type": "code",
   "execution_count": 23,
   "metadata": {},
   "outputs": [
    {
     "name": "stdout",
     "output_type": "stream",
     "text": [
      "Computing dimer at 1.8 angstroms and -180.00 degrees\n",
      "Computing dimer at 1.8 angstroms and -165.00 degrees\n",
      "Computing dimer at 1.8 angstroms and -150.00 degrees\n",
      "Computing dimer at 1.8 angstroms and -135.00 degrees\n",
      "Computing dimer at 1.8 angstroms and -120.00 degrees\n",
      "Computing dimer at 1.8 angstroms and -105.00 degrees\n",
      "Computing dimer at 1.8 angstroms and -90.00 degrees\n",
      "Computing dimer at 1.8 angstroms and -75.00 degrees\n",
      "Computing dimer at 1.8 angstroms and -60.00 degrees\n",
      "Computing dimer at 1.8 angstroms and -45.00 degrees\n",
      "Computing dimer at 1.8 angstroms and -30.00 degrees\n",
      "Computing dimer at 1.8 angstroms and -15.00 degrees\n",
      "Computing dimer at 1.8 angstroms and 0.00 degrees\n",
      "Computing dimer at 1.8 angstroms and 15.00 degrees\n",
      "Computing dimer at 1.8 angstroms and 30.00 degrees\n",
      "Computing dimer at 1.8 angstroms and 45.00 degrees\n",
      "Computing dimer at 1.8 angstroms and 60.00 degrees\n",
      "Computing dimer at 1.8 angstroms and 75.00 degrees\n",
      "Computing dimer at 1.8 angstroms and 90.00 degrees\n",
      "Computing dimer at 1.8 angstroms and 105.00 degrees\n",
      "Computing dimer at 1.8 angstroms and 120.00 degrees\n",
      "Computing dimer at 1.8 angstroms and 135.00 degrees\n",
      "Computing dimer at 1.8 angstroms and 150.00 degrees\n",
      "Computing dimer at 1.8 angstroms and 165.00 degrees\n",
      "Computing dimer at 1.8 angstroms and 180.00 degrees\n",
      "Computing dimer at 1.9 angstroms and -180.00 degrees\n",
      "Computing dimer at 1.9 angstroms and -165.00 degrees\n",
      "Computing dimer at 1.9 angstroms and -150.00 degrees\n",
      "Computing dimer at 1.9 angstroms and -135.00 degrees\n",
      "Computing dimer at 1.9 angstroms and -120.00 degrees\n",
      "Computing dimer at 1.9 angstroms and -105.00 degrees\n",
      "Computing dimer at 1.9 angstroms and -90.00 degrees\n",
      "Computing dimer at 1.9 angstroms and -75.00 degrees\n",
      "Computing dimer at 1.9 angstroms and -60.00 degrees\n",
      "Computing dimer at 1.9 angstroms and -45.00 degrees\n",
      "Computing dimer at 1.9 angstroms and -30.00 degrees\n",
      "Computing dimer at 1.9 angstroms and -15.00 degrees\n",
      "Computing dimer at 1.9 angstroms and 0.00 degrees\n",
      "Computing dimer at 1.9 angstroms and 15.00 degrees\n",
      "Computing dimer at 1.9 angstroms and 30.00 degrees\n",
      "Computing dimer at 1.9 angstroms and 45.00 degrees\n",
      "Computing dimer at 1.9 angstroms and 60.00 degrees\n",
      "Computing dimer at 1.9 angstroms and 75.00 degrees\n",
      "Computing dimer at 1.9 angstroms and 90.00 degrees\n",
      "Computing dimer at 1.9 angstroms and 105.00 degrees\n",
      "Computing dimer at 1.9 angstroms and 120.00 degrees\n",
      "Computing dimer at 1.9 angstroms and 135.00 degrees\n",
      "Computing dimer at 1.9 angstroms and 150.00 degrees\n",
      "Computing dimer at 1.9 angstroms and 165.00 degrees\n",
      "Computing dimer at 1.9 angstroms and 180.00 degrees\n",
      "Computing dimer at 2.0 angstroms and -180.00 degrees\n",
      "Computing dimer at 2.0 angstroms and -165.00 degrees\n",
      "Computing dimer at 2.0 angstroms and -150.00 degrees\n",
      "Computing dimer at 2.0 angstroms and -135.00 degrees\n",
      "Computing dimer at 2.0 angstroms and -120.00 degrees\n",
      "Computing dimer at 2.0 angstroms and -105.00 degrees\n",
      "Computing dimer at 2.0 angstroms and -90.00 degrees\n",
      "Computing dimer at 2.0 angstroms and -75.00 degrees\n",
      "Computing dimer at 2.0 angstroms and -60.00 degrees\n",
      "Computing dimer at 2.0 angstroms and -45.00 degrees\n",
      "Computing dimer at 2.0 angstroms and -30.00 degrees\n",
      "Computing dimer at 2.0 angstroms and -15.00 degrees\n",
      "Computing dimer at 2.0 angstroms and 0.00 degrees\n",
      "Computing dimer at 2.0 angstroms and 15.00 degrees\n",
      "Computing dimer at 2.0 angstroms and 30.00 degrees\n",
      "Computing dimer at 2.0 angstroms and 45.00 degrees\n",
      "Computing dimer at 2.0 angstroms and 60.00 degrees\n",
      "Computing dimer at 2.0 angstroms and 75.00 degrees\n",
      "Computing dimer at 2.0 angstroms and 90.00 degrees\n",
      "Computing dimer at 2.0 angstroms and 105.00 degrees\n",
      "Computing dimer at 2.0 angstroms and 120.00 degrees\n",
      "Computing dimer at 2.0 angstroms and 135.00 degrees\n",
      "Computing dimer at 2.0 angstroms and 150.00 degrees\n",
      "Computing dimer at 2.0 angstroms and 165.00 degrees\n",
      "Computing dimer at 2.0 angstroms and 180.00 degrees\n",
      "Computing dimer at 2.1 angstroms and -180.00 degrees\n",
      "Computing dimer at 2.1 angstroms and -165.00 degrees\n",
      "Computing dimer at 2.1 angstroms and -150.00 degrees\n",
      "Computing dimer at 2.1 angstroms and -135.00 degrees\n",
      "Computing dimer at 2.1 angstroms and -120.00 degrees\n",
      "Computing dimer at 2.1 angstroms and -105.00 degrees\n",
      "Computing dimer at 2.1 angstroms and -90.00 degrees\n",
      "Computing dimer at 2.1 angstroms and -75.00 degrees\n",
      "Computing dimer at 2.1 angstroms and -60.00 degrees\n",
      "Computing dimer at 2.1 angstroms and -45.00 degrees\n",
      "Computing dimer at 2.1 angstroms and -30.00 degrees\n",
      "Computing dimer at 2.1 angstroms and -15.00 degrees\n",
      "Computing dimer at 2.1 angstroms and 0.00 degrees\n",
      "Computing dimer at 2.1 angstroms and 15.00 degrees\n",
      "Computing dimer at 2.1 angstroms and 30.00 degrees\n",
      "Computing dimer at 2.1 angstroms and 45.00 degrees\n",
      "Computing dimer at 2.1 angstroms and 60.00 degrees\n",
      "Computing dimer at 2.1 angstroms and 75.00 degrees\n",
      "Computing dimer at 2.1 angstroms and 90.00 degrees\n",
      "Computing dimer at 2.1 angstroms and 105.00 degrees\n",
      "Computing dimer at 2.1 angstroms and 120.00 degrees\n",
      "Computing dimer at 2.1 angstroms and 135.00 degrees\n",
      "Computing dimer at 2.1 angstroms and 150.00 degrees\n",
      "Computing dimer at 2.1 angstroms and 165.00 degrees\n",
      "Computing dimer at 2.1 angstroms and 180.00 degrees\n",
      "Computing dimer at 2.2 angstroms and -180.00 degrees\n",
      "Computing dimer at 2.2 angstroms and -165.00 degrees\n",
      "Computing dimer at 2.2 angstroms and -150.00 degrees\n",
      "Computing dimer at 2.2 angstroms and -135.00 degrees\n",
      "Computing dimer at 2.2 angstroms and -120.00 degrees\n",
      "Computing dimer at 2.2 angstroms and -105.00 degrees\n",
      "Computing dimer at 2.2 angstroms and -90.00 degrees\n",
      "Computing dimer at 2.2 angstroms and -75.00 degrees\n",
      "Computing dimer at 2.2 angstroms and -60.00 degrees\n",
      "Computing dimer at 2.2 angstroms and -45.00 degrees\n",
      "Computing dimer at 2.2 angstroms and -30.00 degrees\n",
      "Computing dimer at 2.2 angstroms and -15.00 degrees\n",
      "Computing dimer at 2.2 angstroms and 0.00 degrees\n",
      "Computing dimer at 2.2 angstroms and 15.00 degrees\n",
      "Computing dimer at 2.2 angstroms and 30.00 degrees\n",
      "Computing dimer at 2.2 angstroms and 45.00 degrees\n",
      "Computing dimer at 2.2 angstroms and 60.00 degrees\n",
      "Computing dimer at 2.2 angstroms and 75.00 degrees\n",
      "Computing dimer at 2.2 angstroms and 90.00 degrees\n",
      "Computing dimer at 2.2 angstroms and 105.00 degrees\n",
      "Computing dimer at 2.2 angstroms and 120.00 degrees\n",
      "Computing dimer at 2.2 angstroms and 135.00 degrees\n",
      "Computing dimer at 2.2 angstroms and 150.00 degrees\n",
      "Computing dimer at 2.2 angstroms and 165.00 degrees\n",
      "Computing dimer at 2.2 angstroms and 180.00 degrees\n",
      "Computing dimer at 2.3 angstroms and -180.00 degrees\n",
      "Computing dimer at 2.3 angstroms and -165.00 degrees\n",
      "Computing dimer at 2.3 angstroms and -150.00 degrees\n",
      "Computing dimer at 2.3 angstroms and -135.00 degrees\n",
      "Computing dimer at 2.3 angstroms and -120.00 degrees\n",
      "Computing dimer at 2.3 angstroms and -105.00 degrees\n",
      "Computing dimer at 2.3 angstroms and -90.00 degrees\n",
      "Computing dimer at 2.3 angstroms and -75.00 degrees\n",
      "Computing dimer at 2.3 angstroms and -60.00 degrees\n",
      "Computing dimer at 2.3 angstroms and -45.00 degrees\n",
      "Computing dimer at 2.3 angstroms and -30.00 degrees\n",
      "Computing dimer at 2.3 angstroms and -15.00 degrees\n",
      "Computing dimer at 2.3 angstroms and 0.00 degrees\n",
      "Computing dimer at 2.3 angstroms and 15.00 degrees\n",
      "Computing dimer at 2.3 angstroms and 30.00 degrees\n",
      "Computing dimer at 2.3 angstroms and 45.00 degrees\n",
      "Computing dimer at 2.3 angstroms and 60.00 degrees\n",
      "Computing dimer at 2.3 angstroms and 75.00 degrees\n",
      "Computing dimer at 2.3 angstroms and 90.00 degrees\n",
      "Computing dimer at 2.3 angstroms and 105.00 degrees\n",
      "Computing dimer at 2.3 angstroms and 120.00 degrees\n",
      "Computing dimer at 2.3 angstroms and 135.00 degrees\n",
      "Computing dimer at 2.3 angstroms and 150.00 degrees\n",
      "Computing dimer at 2.3 angstroms and 165.00 degrees\n",
      "Computing dimer at 2.3 angstroms and 180.00 degrees\n",
      "Computing dimer at 2.4 angstroms and -180.00 degrees\n",
      "Computing dimer at 2.4 angstroms and -165.00 degrees\n",
      "Computing dimer at 2.4 angstroms and -150.00 degrees\n",
      "Computing dimer at 2.4 angstroms and -135.00 degrees\n",
      "Computing dimer at 2.4 angstroms and -120.00 degrees\n",
      "Computing dimer at 2.4 angstroms and -105.00 degrees\n",
      "Computing dimer at 2.4 angstroms and -90.00 degrees\n",
      "Computing dimer at 2.4 angstroms and -75.00 degrees\n"
     ]
    },
    {
     "name": "stdout",
     "output_type": "stream",
     "text": [
      "Computing dimer at 2.4 angstroms and -60.00 degrees\n",
      "Computing dimer at 2.4 angstroms and -45.00 degrees\n",
      "Computing dimer at 2.4 angstroms and -30.00 degrees\n",
      "Computing dimer at 2.4 angstroms and -15.00 degrees\n",
      "Computing dimer at 2.4 angstroms and 0.00 degrees\n",
      "Computing dimer at 2.4 angstroms and 15.00 degrees\n",
      "Computing dimer at 2.4 angstroms and 30.00 degrees\n",
      "Computing dimer at 2.4 angstroms and 45.00 degrees\n",
      "Computing dimer at 2.4 angstroms and 60.00 degrees\n",
      "Computing dimer at 2.4 angstroms and 75.00 degrees\n",
      "Computing dimer at 2.4 angstroms and 90.00 degrees\n",
      "Computing dimer at 2.4 angstroms and 105.00 degrees\n",
      "Computing dimer at 2.4 angstroms and 120.00 degrees\n",
      "Computing dimer at 2.4 angstroms and 135.00 degrees\n",
      "Computing dimer at 2.4 angstroms and 150.00 degrees\n",
      "Computing dimer at 2.4 angstroms and 165.00 degrees\n",
      "Computing dimer at 2.4 angstroms and 180.00 degrees\n",
      "Computing dimer at 2.5 angstroms and -180.00 degrees\n",
      "Computing dimer at 2.5 angstroms and -165.00 degrees\n",
      "Computing dimer at 2.5 angstroms and -150.00 degrees\n",
      "Computing dimer at 2.5 angstroms and -135.00 degrees\n",
      "Computing dimer at 2.5 angstroms and -120.00 degrees\n",
      "Computing dimer at 2.5 angstroms and -105.00 degrees\n",
      "Computing dimer at 2.5 angstroms and -90.00 degrees\n",
      "Computing dimer at 2.5 angstroms and -75.00 degrees\n",
      "Computing dimer at 2.5 angstroms and -60.00 degrees\n",
      "Computing dimer at 2.5 angstroms and -45.00 degrees\n",
      "Computing dimer at 2.5 angstroms and -30.00 degrees\n",
      "Computing dimer at 2.5 angstroms and -15.00 degrees\n",
      "Computing dimer at 2.5 angstroms and 0.00 degrees\n",
      "Computing dimer at 2.5 angstroms and 15.00 degrees\n",
      "Computing dimer at 2.5 angstroms and 30.00 degrees\n",
      "Computing dimer at 2.5 angstroms and 45.00 degrees\n",
      "Computing dimer at 2.5 angstroms and 60.00 degrees\n",
      "Computing dimer at 2.5 angstroms and 75.00 degrees\n",
      "Computing dimer at 2.5 angstroms and 90.00 degrees\n",
      "Computing dimer at 2.5 angstroms and 105.00 degrees\n",
      "Computing dimer at 2.5 angstroms and 120.00 degrees\n",
      "Computing dimer at 2.5 angstroms and 135.00 degrees\n",
      "Computing dimer at 2.5 angstroms and 150.00 degrees\n",
      "Computing dimer at 2.5 angstroms and 165.00 degrees\n",
      "Computing dimer at 2.5 angstroms and 180.00 degrees\n",
      "All calculations are complete!\n"
     ]
    }
   ],
   "source": [
    "Rvals = np.linspace(start=1.8,stop=2.5,num=8)\n",
    "Avals = np.linspace(start=-180,stop=180, num=25)\n",
    "\n",
    "energy_2D = []\n",
    "\n",
    "for R in Rvals:\n",
    "    energies_R = []\n",
    "\n",
    "    for A in Avals:\n",
    "\n",
    "        print(F'Computing dimer at {R:.1f} angstroms and {A:.2f} degrees')\n",
    "\n",
    "        # Build a new molecule at each separation\n",
    "        B = A-180\n",
    "        molR = water_dimer2.replace('**R**', str(R))\n",
    "        molA = molR.replace('**A**', str(A))\n",
    "        molB = molA.replace('**B**', str(B))\n",
    "        mol = psi4.geometry(molB)\n",
    "\n",
    "        # calculate energy\n",
    "        psi4.set_output_file(F'{molecule_name}_{R:.1f}_{A:.2f}_energy.dat', False)\n",
    "        E = psi4.energy('scf/aug-cc-pVDZ', molecule=mol, bsse_type='cp')       \n",
    "        E = E*627.509\n",
    "        energies_R.append(E)\n",
    "\n",
    "    energy_2D.append(energies_R)\n",
    "\n",
    "print(F'All calculations are complete!')"
   ]
  },
  {
   "cell_type": "code",
   "execution_count": 43,
   "metadata": {},
   "outputs": [
    {
     "data": {
      "image/png": "[encoded data removed]",
      "text/plain": [
       "<Figure size 432x288 with 1 Axes>"
      ]
     },
     "metadata": {
      "needs_background": "light"
     },
     "output_type": "display_data"
    }
   ],
   "source": [
    "#Plot the interaction energies as a function of angle for \n",
    "#two different values of R, 2.0 and 2.3, on the same graph.\n",
    "\n",
    "plt.figure()\n",
    "plt.plot(Avals, energy_2D[2], 'o-',label='R=2.0',)\n",
    "plt.plot(Avals, energy_2D[5], 'o-',label='R=2.3')\n",
    "plt.xlabel('angle (degrees)')\n",
    "plt.ylabel('intercation energy (kcal/mol)')\n",
    "plt.title('intercation energies at 2.0 and 2.3')\n",
    "plt.legend()\n",
    "plt.savefig('intercation_energy_at2R_2D.png', dpi=300)\n",
    "plt.show()\n"
   ]
  },
  {
   "cell_type": "markdown",
   "metadata": {},
   "source": [
    "### Making 3D plots\n",
    "\n",
    "Comparing the two graphs you just made, it is clear that the interaction energy is a function of both the seperation between the molecules and the rotation angle. We can capture this in a 3D plot using some of matplotlib’s advanced features."
   ]
  },
  {
   "cell_type": "code",
   "execution_count": 40,
   "metadata": {},
   "outputs": [],
   "source": [
    "# it doesn't work\n",
    "from mpl_toolkits import mplot3d\n",
    "%matplotlib inline\n",
    "\n",
    "X, Y = np.meshgrid(Avals, Rvals)\n",
    "\n",
    "mycmap1 = plt.get_cmap('gist_earth')\n",
    "\n",
    "fig, (ax,ax2) = plt.subplots(1,2,figsize=(12,6))\n",
    "\n",
    "ax = plt.axes(projection='3d')\n",
    "cf = ax.contour3D(X, Y, np.array(nrg_2D), 300, cmap=mycmap1)\n",
    "ax.plot_surface(X, Y, np.array(nrg_2D), rstride=1, cstride=1, cmap='viridis', edgecolor='none')\n",
    "\n",
    "ax.set_xlabel('angle (degrees)')\n",
    "ax.set_ylabel('R (Bohr)')\n",
    "ax.set_zlabel('energy (kcal/mol)')\n",
    "#ax.set_zlim3d(-4,-2)\n",
    "ax.view_init(45, 35)"
   ]
  },
  {
   "cell_type": "markdown",
   "metadata": {},
   "source": [
    "### Key Points\n",
    "\n",
    "The z-matrix is a way to specify the geometry of a molecule based on connectivity."
   ]
  }
 ],
 "metadata": {
  "kernelspec": {
   "display_name": "Python 3",
   "language": "python",
   "name": "python3"
  },
  "language_info": {
   "codemirror_mode": {
    "name": "ipython",
    "version": 3
   },
   "file_extension": ".py",
   "mimetype": "text/x-python",
   "name": "python",
   "nbconvert_exporter": "python",
   "pygments_lexer": "ipython3",
   "version": "3.7.10"
  }
 },
 "nbformat": 4,
 "nbformat_minor": 4
}
