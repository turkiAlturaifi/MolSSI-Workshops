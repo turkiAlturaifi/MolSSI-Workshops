{
 "cells": [
  {
   "cell_type": "markdown",
   "metadata": {},
   "source": [
    "# Quantum Mechanics Tools\n",
    "## Section 1: Geometry Optimization\n",
    "\n",
    "__Questions__\n",
    "\n",
    "How do I optimize the geometry of a molecule?\n",
    "\n",
    "__Objectives__\n",
    "\n",
    "Generate the geometry of a molecule.\n",
    "\n",
    "Optimize the geometry of a molecule using the PsiAPI within the jupyter notebook workflow.\n",
    "\n",
    "Plot how a bond length changes during the optimization.\n",
    "\n",
    "Plot how the energy of the molecule changes during the optimization.\n",
    "\n",
    "### Overview\n",
    "n this exercise we use PsiAPI, an implementation of Psi4 within Python, to perform geometry optimization and plot the bond distances and energies for two simple molecules: benzene and nitrobenzene.\n",
    "\n",
    "__Creating a molecule__\n",
    "\n",
    "To create an initial representation of the benzene and nitrobenzene molecules, we will use the software Avogadro, which is free to download. Click to add carbon and right click to delete an atom. Click and drag to add a new atom bonded to an existing atom. Click on a bond to increase the order. More instructions on using Avogadro with pictures can be found here.\n",
    "\n",
    "### Basic optimization calculation protocol\n",
    "\n",
    "At room temperature, most molecules will be in their ground state (i.e., minimum energy state). In terms of molecular structure this means the state where the atoms are arranged such that the total (i.e., nuclear + electronic) energy is lowest. The structure that you get of your molecule from Avogadro has not been optimized using quantum mechanical equations based on the wave functions of all the electrons and is likely far from the ground state. This means that some of the bond distances and angles need to be adjusted before we can perform other quantum mechanical calculations on these molecules. To do this, we choose our basis set and calculate the energy of the initial molecule using the Hartree-Fock method. Then, the atom positions are adjusted to decrease the energy, and the calculation is performed again. To determine how to adjust the atom positions, one strategy is to look for the adjustment that will decrease the energy the most with a small change. This can be thought of like moving in the steepest descent direction on a free energy surface, as shown in the figure. To find the steepest descent direction, a gradient (derivative) of the energy is calculated, and the adjustment is made in the direction of the most negative gradient. Other more advanced optimization methods that converge more quickly and are more accurate include the conjugate gradient method and quasi-Newton methods like BFGS (which use approximations of the Hessian/matrix of second derivatives). This process is repeated until the energy has reached a minimum and the gradient is zero. Now you have an optimized geometry for your molecule!\n",
    "\n",
    "### Optimizing benzene\n",
    "To demonstrate a geometry optimization, let’s use the PsiAPI to create a benzene molecule. In this example, we have generated coordinates using Avogadro, but you could generate stating coordinates with any molecular visualization program.\n",
    "\n",
    "First, install psi4 by creating a new enviorment. follow instructions in this link\n",
    "\n",
    "https://psicode.org/posts/psi4education_setup/\n",
    "    \n",
    "First, import the python packages you will use."
   ]
  },
  {
   "cell_type": "code",
   "execution_count": 100,
   "metadata": {},
   "outputs": [],
   "source": [
    "import matplotlib.pyplot as plt\n",
    "import psi4\n",
    "import numpy as np\n",
    "%matplotlib inline\n"
   ]
  },
  {
   "cell_type": "markdown",
   "metadata": {},
   "source": [
    "Next, we will important two custom functions that have been written for this lesson. The first function plot_R measures the bond distance between two specified atoms at each step of our geometry optimization. The next function, plot_energy extracts the energy at each optimization step. We will discuss using these functions, and how you can learn about new functions you are provided to use later in this lesson."
   ]
  },
  {
   "cell_type": "code",
   "execution_count": 104,
   "metadata": {},
   "outputs": [
    {
     "data": {
      "text/plain": [
       "[1.353246,\n",
       " 1.3869,\n",
       " 1.387866,\n",
       " 1.387166,\n",
       " 1.387798,\n",
       " 1.388148,\n",
       " 1.388216,\n",
       " 1.388346,\n",
       " 1.388437]"
      ]
     },
     "execution_count": 104,
     "metadata": {},
     "output_type": "execute_result"
    }
   ],
   "source": [
    "# function to find the bond distance for two specific atoms in the optimization file\n",
    "def plot_R(filename, a, b):\n",
    "    \"\"\"\n",
    "    Function to measure the distance between two atoms in a psi4 geometry optimization output file\n",
    "\n",
    "    Usage: plot_R(filename, a, b)\n",
    "\n",
    "    Inputs:\n",
    "    filename: name of psi4 output file from geometry optimization calclaultion\n",
    "    a and b: atom numbers for two atoms you want to measure the distance between\n",
    "\n",
    "    Output: list of bond distance at for each optimization step\n",
    "    \"\"\"    \n",
    "    with open(filename) as f:\n",
    "        pair_notation = 'R(' + str(a) + ',' + str(b) + ')'\n",
    "        rows_with_R_pairs = [line.split() for line in f if line.find(pair_notation) > 1 and\n",
    "                             line.strip().split()[1].startswith(pair_notation)]\n",
    "        #print(rows_with_R_pairs)\n",
    "        bond_distances = []\n",
    "        bond_distances.append(float(rows_with_R_pairs[0][3]))\n",
    "        for item in rows_with_R_pairs:\n",
    "            bond_distances.append(float(item[6]))\n",
    "        #plt.plot(bond_distances, 'o')\n",
    "        #plt.xlabel('iteration step')\n",
    "        #plt.ylabel('distance (angstroms)')\n",
    "        #plt.title(molecule_name +' '+ str(a) + '---' + str(b)+ ' bond distance',loc='right')\n",
    "        \n",
    "        #plt.savefig(f'{molecule_name}_distance.png', dpi=300)\n",
    "        #plt.show()\n",
    "        return bond_distances\n",
    "\n",
    "\n",
    "plot_R('Geometry-Optimization-data/benzene/benzene_geometry_optimization.dat', 1, 2) \n"
   ]
  },
  {
   "cell_type": "code",
   "execution_count": 105,
   "metadata": {},
   "outputs": [
    {
     "data": {
      "text/plain": [
       "[-230.4778161179,\n",
       " -230.6950542932,\n",
       " -230.7177004781,\n",
       " -230.7210988187,\n",
       " -230.7218676881,\n",
       " -230.7219197801,\n",
       " -230.7219248083,\n",
       " -230.7219256679]"
      ]
     },
     "execution_count": 105,
     "metadata": {},
     "output_type": "execute_result"
    }
   ],
   "source": [
    "# function to find the energy in the optimization file\n",
    "def plot_energy(filename):\n",
    "    \"\"\"\n",
    "    Function to find the energy in a psi4 optimization file.\n",
    "\n",
    "    Usage: plot_energy(filename)\n",
    "\n",
    "    Inputs: name of psi4 output file from geometry optimization calclaultion\n",
    "    filename: name\n",
    "\n",
    "    Output: list of energy values from each optimization step\n",
    "    \"\"\"\n",
    "\n",
    "    with open(filename) as f:\n",
    "        #energy_string = 'Current energy'\n",
    "        energy_values = [ float(line.split()[3]) for line in f if line.strip().startswith('Current energy') ]\n",
    "        #plt.plot(energy_values,'o')\n",
    "        #plt.xlabel('iteration step')\n",
    "        #plt.ylabel('energy (au)')\n",
    "        #plt.title(molecule_name + ' C-C energy value', loc='right')\n",
    "        #plt.savefig(f'{molecule_name}_energy.png', dpi=300)\n",
    "        #plt.show()\n",
    "        return energy_values\n",
    "\n",
    "plot_energy('Geometry-Optimization-data/benzene/benzene_geometry_optimization.dat')"
   ]
  },
  {
   "cell_type": "markdown",
   "metadata": {},
   "source": [
    "### Setting up the molecule\n",
    "\n",
    "First we will set up our molecule as an object in Psi4 using the function psi4.geometry(). Once we have the molecule built, we can use Psi4 to calculate different attributes of the molecule using the basis set that we specify. In this case we will use the Hartree-Fock method (SCF) and the cc-pVDZ basis set. We will calculate the energy of the molecule and print it to a file called ‘energy_initial’, since this is the initial structure of our molecule. It turns out that this command gives us more than just the molecule’s energy.\n",
    "\n",
    "We can also print the positions of all the atoms at any time using molecule.print_out_in_angstrom() and all of the interatomic distances using molecule.print_distances(). We will print these to a file called ‘geometry_initial’ as an example of Psi4’s functionality, but we don’t really need this information right now."
   ]
  },
  {
   "cell_type": "code",
   "execution_count": 106,
   "metadata": {},
   "outputs": [],
   "source": [
    "# set the amount of memory that you will need\n",
    "psi4.set_memory('2 GB')\n",
    "\n",
    "# set the number of threads (processes) for Psi4 to use\n",
    "# (~all modern computers can handle 2 threads)\n",
    "psi4.set_num_threads(2)\n",
    "\n",
    "# set the molecule name for your files and plots\n",
    "molecule_name = \"benzene\"\n",
    "\n",
    "# enter the charge, multiplicity, and starting coordinates of the atoms in your molecule\n",
    "benzene = psi4.geometry(\"\"\"\n",
    "0 1\n",
    "   C       -3.98116        3.81771        0.00000\n",
    "   C       -2.63351        3.75967        0.10838\n",
    "   C       -2.11978        2.80187       -0.29323\n",
    "   C       -2.68901        1.83558       -0.80805\n",
    "   C       -3.92704        1.83138       -0.93484\n",
    "   C       -4.58021        2.71451       -0.58263\n",
    "   H       -4.52562        4.63006        0.32966\n",
    "   H       -2.09025        4.53029        0.52795\n",
    "   H       -1.09209        2.75239       -0.21305\n",
    "   H       -2.13621        1.02769       -1.13476\n",
    "   H       -4.38300        1.01321       -1.36811\n",
    "   H       -5.60487        2.68217       -0.70124\n",
    "\"\"\")\n",
    "\n",
    "# Set the name of the output file for the initial energy calculation\n",
    "# Calculate the initial energy of the molecule using the Hartree-Fock method\n",
    "# and the cc-pVDZ basis set and print the output to a file\n",
    "psi4.set_output_file(F'{molecule_name}_energy_initial.dat', False)\n",
    "psi4.energy('scf/cc-pVDZ')\n",
    "\n",
    "# Set the name of the output file to write the geometry information\n",
    "# Print atomic coordinates and interatomic distances to this file\n",
    "psi4.set_output_file(F'{molecule_name}_geometry_initial.dat', False)\n",
    "benzene.print_out_in_angstrom()\n",
    "benzene.print_distances()"
   ]
  },
  {
   "cell_type": "markdown",
   "metadata": {},
   "source": [
    "### Geometry optimization\n",
    "\n",
    "Now that we have the molecule setup, we will perform the geometry optimization. The psi4.optimize() function performs the optimization, and we need to tell it what method (SCF) and basis set (cc-pVDZ) to use and what molecule to optimize. As the optimization runs, information will be printed to the ‘geometry_optimization’ file at each step.\n",
    "\n",
    "Note: Although Psi4’s default settings should work fine for most reasonable starting geometries, you may need to modify the maximum number of SCF iterations and/or the maximum number of geometry optimization iterations. To modify the maximum number of SCF interations (e.g., to 500), we can do so with psi4.set_module_options('scf', {'maxiter': 500}). Similarly, to modify the maximum number of geometry optimization iterations (e.g., to 100), we can do so with psi4.set_options({'geom_maxiter': 100}).\n",
    "\n",
    "After the optimization is complete, we print the atomic coordinates and interatomic distances again, to the ‘geometry_final’ file."
   ]
  },
  {
   "cell_type": "code",
   "execution_count": 107,
   "metadata": {},
   "outputs": [
    {
     "name": "stdout",
     "output_type": "stream",
     "text": [
      "Optimizer: Optimization complete!\n"
     ]
    }
   ],
   "source": [
    "# optimize the molecular geometry\n",
    "psi4.set_output_file(F'{molecule_name}_geometry_optimization.dat', False)\n",
    "psi4.optimize('scf/cc-pVDZ', molecule=benzene)\n",
    "\n",
    "# print the optimized atomic coordinates and interatomic distances\n",
    "psi4.set_output_file(F'{molecule_name}_geometry_final.dat', False)\n",
    "benzene.print_out_in_angstrom()\n",
    "benzene.print_distances()"
   ]
  },
  {
   "cell_type": "markdown",
   "metadata": {},
   "source": [
    "### Reading bond distances from the geometry optimization file\n",
    "\n",
    "Now we will use the plot_R function we imported above to pull out the bond distances for any two atoms in the molecule from the geometry optimization output file. This way you can look at how the bond distances change during the optimization process. We won’t explain how the function works here, but you can see the information in the ‘geometry_optimization’ file in the lines that begin with R(a,b), where a and b are the numbers for the two atoms that form a bond. Remember, we can use the python help() function to learn more about how any new function works."
   ]
  },
  {
   "cell_type": "code",
   "execution_count": 108,
   "metadata": {},
   "outputs": [
    {
     "name": "stdout",
     "output_type": "stream",
     "text": [
      "Help on function plot_R in module __main__:\n",
      "\n",
      "plot_R(filename, a, b)\n",
      "    Function to measure the distance between two atoms in a psi4 geometry optimization output file\n",
      "    \n",
      "    Usage: plot_R(filename, a, b)\n",
      "    \n",
      "    Inputs:\n",
      "    filename: name of psi4 output file from geometry optimization calclaultion\n",
      "    a and b: atom numbers for two atoms you want to measure the distance between\n",
      "    \n",
      "    Output: list of bond distance at for each optimization step\n",
      "\n"
     ]
    }
   ],
   "source": [
    "help(plot_R)"
   ]
  },
  {
   "cell_type": "markdown",
   "metadata": {},
   "source": [
    "### Plotting how bond distances change during optimization\n",
    "\n",
    "Using the function plot_R, we will find the bond distances between two atoms at each step of the optimization and store them in the list bond_distances. Then, we will plot how that distance changes at each step of the optimization process. You should see it change from the initial value and then level out to the optimal bond distance based on the Hartree-Fock method and the cc-pVDZ basis set."
   ]
  },
  {
   "cell_type": "code",
   "execution_count": 109,
   "metadata": {},
   "outputs": [
    {
     "data": {
      "image/png": "[encoded data removed]",
      "text/plain": [
       "<Figure size 432x288 with 1 Axes>"
      ]
     },
     "metadata": {
      "needs_background": "light"
     },
     "output_type": "display_data"
    }
   ],
   "source": [
    "# find the bond distance for atoms C1 and C2\n",
    "bond_distances = plot_R('benzene_geometry_optimization.dat',1,2)\n",
    "\n",
    "# plot the bond distances at each iteration of geometry optimization\n",
    "plt.plot(bond_distances, 'o')\n",
    "plt.xlabel('iteration step')\n",
    "plt.ylabel('distance (angstroms)')\n",
    "plt.title(molecule_name + ' C-C bond distance')\n",
    "\n",
    "plt.savefig(f'{molecule_name}.png', dpi=300)\n",
    "\n",
    "# insert this into the function to make it easier"
   ]
  },
  {
   "cell_type": "markdown",
   "metadata": {},
   "source": [
    "### Plotting how energy changes during optimization\n",
    "\n",
    "Now we will use the plot_energy function from above to extract the molecular energies from the geometry optimization output file. This way you can look at how the energy changes during the optimization process. In the ‘geometry_optimization’ file you can find this information on lines that begin with Current energy. Then, we will plot how the energy changes at each step of the optimization process. What trend do you expect to see? Why? In this example, we will also save our plot as a PNG file called benzene_energy.png."
   ]
  },
  {
   "cell_type": "code",
   "execution_count": 111,
   "metadata": {},
   "outputs": [],
   "source": [
    "energy_values = plot_energy('Geometry-Optimization-data/benzene/benzene_geometry_optimization.dat')"
   ]
  },
  {
   "cell_type": "code",
   "execution_count": 63,
   "metadata": {},
   "outputs": [
    {
     "data": {
      "image/png": "[encoded data removed]",
      "text/plain": [
       "<Figure size 432x288 with 1 Axes>"
      ]
     },
     "metadata": {
      "needs_background": "light"
     },
     "output_type": "display_data"
    }
   ],
   "source": [
    "plt.plot(energy_values,'o')\n",
    "plt.xlabel('iteration step')\n",
    "plt.ylabel('energy (au)')\n",
    "plt.title(molecule_name + ' C-C energy value')\n",
    "plt.savefig(f'{molecule_name}_energy.png', dpi=300)\n",
    "plt.show()\n",
    "\n",
    "# add it to the function"
   ]
  },
  {
   "cell_type": "code",
   "execution_count": 113,
   "metadata": {},
   "outputs": [],
   "source": [
    "# do the same for nitorbenzne\n",
    "\n",
    "# set the amount of memory that you will need\n",
    "psi4.set_memory('2 GB')\n",
    "\n",
    "# set the number of threads (processes) for Psi4 to use\n",
    "# (~all modern computers can handle 2 threads)\n",
    "psi4.set_num_threads(2)\n",
    "\n",
    "# set the molecule name for your files and plots\n",
    "molecule_name = \"nitrobenzene\"\n",
    "\n",
    "# enter the charge, multiplicity, and starting coordinates of the atoms in your molecule\n",
    "benzene = psi4.geometry(\"\"\"\n",
    "0 1\n",
    "   O        0.99798       -0.09029        0.34652\n",
    "   N        2.17091        0.08034       -0.01822\n",
    "   C        2.79536       -0.98341       -0.77095\n",
    "   C        3.78382       -0.66223       -1.69808\n",
    "   C        4.37639       -1.68917       -2.42607\n",
    "   C        3.98542       -3.01204       -2.21565\n",
    "   C        2.99573       -3.31509       -1.27950\n",
    "   C        2.38889       -2.29609       -0.55107\n",
    "   O        2.84817        1.08982        0.21526\n",
    "   H        4.07112        0.31843       -1.84226\n",
    "   H        5.10619       -1.47221       -3.12273\n",
    "   H        4.43066       -3.77065       -2.75537\n",
    "   H        2.71347       -4.29598       -1.12716\n",
    "   H        1.65173       -2.50985        0.13880\n",
    "\"\"\")\n",
    "\n",
    "# Set the name of the output file for the initial energy calculation\n",
    "# Calculate the initial energy of the molecule using the Hartree-Fock method\n",
    "# and the cc-pVDZ basis set and print the output to a file\n",
    "psi4.set_output_file(F'{molecule_name}_energy_initial.dat', False)\n",
    "psi4.energy('scf/cc-pVDZ')\n",
    "\n",
    "# Set the name of the output file to write the geometry information\n",
    "# Print atomic coordinates and interatomic distances to this file\n",
    "psi4.set_output_file(F'{molecule_name}_geometry_initial.dat', False)\n",
    "benzene.print_out_in_angstrom()\n",
    "benzene.print_distances()"
   ]
  },
  {
   "cell_type": "code",
   "execution_count": 114,
   "metadata": {},
   "outputs": [
    {
     "name": "stdout",
     "output_type": "stream",
     "text": [
      "Optimizer: Optimization complete!\n"
     ]
    }
   ],
   "source": [
    "# optimize the molecular geometry\n",
    "psi4.set_output_file(F'{molecule_name}_geometry_optimization.dat', False)\n",
    "psi4.optimize('scf/cc-pVDZ', molecule=nitrobenzene)\n",
    "\n",
    "#increase the steps\n",
    "psi4.set_module_options('scf', {'maxiter': 500})\n",
    "psi4.set_options({'geom_maxiter': 100})\n",
    "\n",
    "# print the optimized atomic coordinates and interatomic distances\n",
    "psi4.set_output_file(F'{molecule_name}_geometry_final.dat', False)\n",
    "benzene.print_out_in_angstrom()\n",
    "benzene.print_distances()"
   ]
  },
  {
   "cell_type": "code",
   "execution_count": 87,
   "metadata": {},
   "outputs": [
    {
     "data": {
      "image/png": "[encoded data removed]",
      "text/plain": [
       "<Figure size 432x288 with 1 Axes>"
      ]
     },
     "metadata": {
      "needs_background": "light"
     },
     "output_type": "display_data"
    },
    {
     "data": {
      "image/png": "[encoded data removed]",
      "text/plain": [
       "<Figure size 432x288 with 1 Axes>"
      ]
     },
     "metadata": {
      "needs_background": "light"
     },
     "output_type": "display_data"
    },
    {
     "data": {
      "text/plain": [
       "[-434.2111965455, -434.2111071104, -434.2111965529]"
      ]
     },
     "execution_count": 87,
     "metadata": {},
     "output_type": "execute_result"
    }
   ],
   "source": [
    "plot_R('nitrobenzene_geometry_optimization.dat', 2, 3)\n",
    "plot_energy('nitrobenzene_geometry_optimization.dat')"
   ]
  },
  {
   "cell_type": "code",
   "execution_count": 88,
   "metadata": {},
   "outputs": [],
   "source": [
    "#their solution\n",
    "# set the amount of memory that you will need\n",
    "psi4.set_memory('2 GB')\n",
    "psi4.set_num_threads(2)\n",
    "\n",
    "# set the molecule name for your files and plots\n",
    "molecule_name = \"nitrobenzene\"\n",
    "\n",
    "# enter the charge, multiplicity, and starting coordinates of the atoms in your molecule\n",
    "nitrobenzene = psi4.geometry(\"\"\"\n",
    "0 1\n",
    "    C           -0.095064772343     0.146295623041     0.059537205186\n",
    "    C            1.283018363291     0.142649668478     0.196784140588\n",
    "    C            1.990331050963    -0.960422939516    -0.254006621934\n",
    "    C            1.318416263743    -2.031528686933    -0.828747057589\n",
    "    C           -0.064188925162    -2.007366882283    -0.956737400211\n",
    "    C           -0.784558755686    -0.910752841459    -0.510319723340\n",
    "    N           -0.848855091435     1.308105436534     0.533445635977\n",
    "    O           -0.233820735922     2.201021978360     1.018562061794\n",
    "    O           -2.029554627386     1.286506572614     0.404620639986\n",
    "    H            1.779858487179     0.986578029758     0.646345969034\n",
    "    H            3.066459468369    -0.982350238052    -0.155873129710\n",
    "    H            1.875676025875    -2.889960105077    -1.178879784359\n",
    "    H           -0.584173157007    -2.842448011438    -1.404447615844\n",
    "    H           -1.857675444135    -0.866918749314    -0.597782154057\n",
    "\"\"\")\n",
    "\n",
    "# calculate the initial energy of the molecule using the Hartree-Fock method\n",
    "# and the cc-pVDZ basis set; print this output to a file\n",
    "psi4.set_output_file(molecule_name + '_energy_initial.dat', False)\n",
    "psi4.energy('scf/cc-pVDZ')\n",
    "\n",
    "# print atomic coordinates and interatomic distances to a file\n",
    "psi4.set_output_file(molecule_name + '_geometry_initial.dat', False)\n",
    "nitrobenzene.print_out_in_angstrom()\n",
    "nitrobenzene.print_distances()"
   ]
  },
  {
   "cell_type": "code",
   "execution_count": 89,
   "metadata": {},
   "outputs": [
    {
     "name": "stdout",
     "output_type": "stream",
     "text": [
      "Optimizer: Optimization complete!\n"
     ]
    }
   ],
   "source": [
    "# optimize the molecular geometry\n",
    "psi4.set_output_file(F'{molecule_name}_geometry_optimization.dat', False)\n",
    "psi4.optimize('scf/cc-pVDZ', molecule=nitrobenzene)\n",
    "\n",
    "#increase the steps\n",
    "psi4.set_module_options('scf', {'maxiter': 500})\n",
    "psi4.set_options({'geom_maxiter': 100})\n",
    "\n",
    "# print the optimized atomic coordinates and interatomic distances\n",
    "psi4.set_output_file(F'{molecule_name}_geometry_final.dat', False)\n",
    "benzene.print_out_in_angstrom()\n",
    "benzene.print_distances()"
   ]
  },
  {
   "cell_type": "code",
   "execution_count": 99,
   "metadata": {},
   "outputs": [
    {
     "data": {
      "image/png": "[encoded data removed]",
      "text/plain": [
       "<Figure size 720x720 with 1 Axes>"
      ]
     },
     "metadata": {
      "needs_background": "light"
     },
     "output_type": "display_data"
    },
    {
     "data": {
      "image/png": "[encoded data removed]",
      "text/plain": [
       "<Figure size 720x720 with 1 Axes>"
      ]
     },
     "metadata": {
      "needs_background": "light"
     },
     "output_type": "display_data"
    }
   ],
   "source": [
    "# find the bond distance for atoms C1 and N\n",
    "bond_distances = plot_R('nitrobenzene_geometry_optimization.dat',1, 7)\n",
    "# determine an appropriate range for plotting\n",
    "dist_range = max(bond_distances) - min(bond_distances) # check out np.ptp(), too!\n",
    "\n",
    "# plot the bond distances at each iteration of geometry optimization\n",
    "plt.figure(figsize=(10,10))\n",
    "plt.scatter(np.arange(len(bond_distances)), bond_distances)\n",
    "plt.ylim(top = max(bond_distances) + dist_range*0.15,\n",
    "         bottom = min(bond_distances) - dist_range*0.15)\n",
    "plt.xlabel(\"iteration\")\n",
    "plt.ylabel(\"distance (Angstroms)\")\n",
    "plt.title(molecule_name + \" C-N bond distance\")\n",
    "\n",
    "plt.show()\n",
    "\n",
    "energy_values = plot_energy('nitrobenzene_geometry_optimization.dat')\n",
    "plt.figure(figsize=(10,10))\n",
    "plt.plot(energy_values,'o')\n",
    "plt.xlabel('iteration step')\n",
    "plt.ylabel('energy (au)')\n",
    "plt.title(molecule_name + ' C-N energy value')\n",
    "plt.savefig(f'{molecule_name}_energy.png', dpi=300)\n",
    "plt.show()"
   ]
  },
  {
   "cell_type": "markdown",
   "metadata": {},
   "source": [
    "### Key Points\n",
    "\n",
    "You can use the PsiAPI to run quantum chemistry calculations within the jupyter notebook environment.\n",
    "\n",
    "During an optimization calculation, the energy flucutates but should generally decrease.\n",
    "\n",
    "During an optimization calculation, any given bond length may increase or decrease, depending on the stating geometry."
   ]
  }
 ],
 "metadata": {
  "kernelspec": {
   "display_name": "Python 3",
   "language": "python",
   "name": "python3"
  },
  "language_info": {
   "codemirror_mode": {
    "name": "ipython",
    "version": 3
   },
   "file_extension": ".py",
   "mimetype": "text/x-python",
   "name": "python",
   "nbconvert_exporter": "python",
   "pygments_lexer": "ipython3",
   "version": "3.7.10"
  }
 },
 "nbformat": 4,
 "nbformat_minor": 4
}
