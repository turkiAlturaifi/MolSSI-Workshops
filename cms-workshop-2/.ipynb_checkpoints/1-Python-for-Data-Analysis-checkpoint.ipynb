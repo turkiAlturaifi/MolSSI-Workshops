{
 "cells": [
  {
   "cell_type": "markdown",
   "id": "suffering-athletics",
   "metadata": {},
   "source": [
    "# MolISS Workeshop 2\n",
    "# Python for Data Analysis\n",
    "you can find more info here\n",
    "https://education.molssi.org/python-data-analysis/01-numpy-arrays/index.html"
   ]
  },
  {
   "cell_type": "markdown",
   "id": "flush-plastic",
   "metadata": {},
   "source": [
    "## Section 1: Working with Numpy Arrays\n",
    "\n",
    "__Questions__\n",
    "\n",
    "What are the differences between numpy arrays and lists?\n",
    "\n",
    "How can I use NumPy to do calculations?\n",
    "\n",
    "__Objectives__\n",
    "\n",
    "Be able to name the differences between Python lists and numpy arrays.\n",
    "\n",
    "Understand the idea of broadcasting."
   ]
  },
  {
   "cell_type": "markdown",
   "id": "induced-romance",
   "metadata": {},
   "source": [
    "### NumPy Arrays vs. Python Lists"
   ]
  },
  {
   "cell_type": "code",
   "execution_count": 12,
   "id": "invalid-fundamentals",
   "metadata": {},
   "outputs": [
    {
     "name": "stdout",
     "output_type": "stream",
     "text": [
      "['O' 'H1' 'H2']\n",
      "[[ 0.       -0.007156  0.965491]\n",
      " [-0.        0.001486 -0.003471]\n",
      " [ 0.        0.931026  1.207929]]\n"
     ]
    }
   ],
   "source": [
    "import numpy as np\n",
    "import os\n",
    "\n",
    "file_location = os.path.join('data','water.xyz')\n",
    "xyz_file = np.genfromtxt(file_location, skip_header=2, dtype='unicode')\n",
    "#print(xyz_file)\n",
    "symbols = xyz_file[:,0]\n",
    "#print(symbols)\n",
    "coordinates = xyz_file[:,1:].astype(float) # extract the coords and as floats\n",
    "\n",
    "print(symbols)\n",
    "print(coordinates)"
   ]
  },
  {
   "cell_type": "code",
   "execution_count": 19,
   "id": "sized-roommate",
   "metadata": {},
   "outputs": [
    {
     "name": "stdout",
     "output_type": "stream",
     "text": [
      "[ 0.       -0.007156  0.965491]\n"
     ]
    }
   ],
   "source": [
    "oxygen_coord= coordinates[0] # all the columns of the first raw\n",
    "#print(oxygen_coord)"
   ]
  },
  {
   "cell_type": "markdown",
   "id": "embedded-affect",
   "metadata": {},
   "source": [
    "Let’s imagine that we wanted to translate the position of the oxygen atom. We want to translate it 0.1 units in the x direction and -0.1 units in the y direction.\n",
    "    \n",
    "If we were writing for loops like we did before, we might do this by defining a translation vector and using a for loop."
   ]
  },
  {
   "cell_type": "code",
   "execution_count": 52,
   "id": "legislative-control",
   "metadata": {},
   "outputs": [
    {
     "name": "stdout",
     "output_type": "stream",
     "text": [
      "[0.1, -0.107156, 0.965491]\n",
      "[ 0.1      -0.107156  0.965491]\n",
      "<class 'numpy.ndarray'>\n"
     ]
    }
   ],
   "source": [
    "translation_vector = [0.1, -0.1, 0]\n",
    "\n",
    "oxygen_coord_new=[]\n",
    "\n",
    "for dim in range(3): # from 0 to 3\n",
    "    new_position = oxygen_coord[dim] + translation_vector[dim]\n",
    "    oxygen_coord_new.append(new_position)\n",
    "print(oxygen_coord_new)\n",
    "    \n",
    "# using the fact it is a numpy array \n",
    "oxygen_coord_new = oxygen_coord + translation_vector\n",
    "print(oxygen_coord_new)\n",
    "\n",
    "#print(type(oxygen_coord))\n",
    "    \n",
    "    \n",
    "    "
   ]
  },
  {
   "cell_type": "code",
   "execution_count": 59,
   "id": "amended-parcel",
   "metadata": {},
   "outputs": [
    {
     "data": {
      "text/plain": [
       "[0.0, -0.007156, 0.965491, 0.1, -0.1, 0]"
      ]
     },
     "execution_count": 59,
     "metadata": {},
     "output_type": "execute_result"
    }
   ],
   "source": [
    "# can make it into a list\n",
    "oxygen_list = list(oxygen_coord)\n",
    "type(oxygen_list)\n",
    "\n",
    "# but if you try to add the two lists:\n",
    "oxygen_list + translation_vector\n",
    "\n"
   ]
  },
  {
   "cell_type": "code",
   "execution_count": 60,
   "id": "molecular-relation",
   "metadata": {},
   "outputs": [
    {
     "data": {
      "text/plain": [
       "array([ 0.      , -0.007156,  0.965491,  0.1     , -0.1     ,  0.      ])"
      ]
     },
     "execution_count": 60,
     "metadata": {},
     "output_type": "execute_result"
    }
   ],
   "source": [
    "# if you want to do the same thing with numpy\n",
    "# To concatenate numpy arrays...\n",
    "\n",
    "np.concatenate((oxygen_coord, translation_vector))"
   ]
  },
  {
   "cell_type": "markdown",
   "id": "mechanical-practitioner",
   "metadata": {},
   "source": [
    "You can add two arrays together, multiply arrays by scalars, or do element-wise multiplcation of arrays.\n",
    "\n",
    "For example, you can multiply two numpy arrays to get their element-wise product. This means that given two vectors a = np.array([a0, a1, a2]) and b = np.array([b0, b1, b2]), a * b = [a0 * b0, a1 * a1, a2 * b2]."
   ]
  },
  {
   "cell_type": "code",
   "execution_count": 61,
   "id": "hawaiian-participation",
   "metadata": {},
   "outputs": [
    {
     "name": "stdout",
     "output_type": "stream",
     "text": [
      "[2 3 0]\n",
      "[3 4 5]\n"
     ]
    }
   ],
   "source": [
    "# for example:\n",
    "\n",
    "a1 = np.array([2, 1, 0])\n",
    "a2 = np.array([1, 3, 5])\n",
    "\n",
    "print(a1 * a2)\n",
    "print(a1 + a2)"
   ]
  },
  {
   "cell_type": "code",
   "execution_count": 66,
   "id": "floral-pleasure",
   "metadata": {},
   "outputs": [
    {
     "name": "stdout",
     "output_type": "stream",
     "text": [
      "[2, 1, 0, 1, 3, 5]\n"
     ]
    }
   ],
   "source": [
    "# but if they are lists, you would get an error for the mutiplication\n",
    "# and you add the elemnts to one list for addition\n",
    "\n",
    "a1 = [2, 1, 0]\n",
    "a2 = [1, 3, 5]\n",
    "\n",
    "print(a1 + a2)\n",
    "#print(a1 * a2)"
   ]
  },
  {
   "cell_type": "markdown",
   "id": "rocky-reporter",
   "metadata": {},
   "source": [
    "### Broadcasting"
   ]
  },
  {
   "cell_type": "markdown",
   "id": "forward-lindsay",
   "metadata": {},
   "source": [
    "Another special thing about numpy is something called broadcasting. Broadcasting occurs when you attempt mathematical operations on arrays that have different shapes. If possible, the smaller array is “broadcast” across the larger array.\n",
    "\n",
    "Let’s think about what would happen if we wanted to move every atom in our water molecule by our translation vector."
   ]
  },
  {
   "cell_type": "code",
   "execution_count": 83,
   "id": "foreign-silver",
   "metadata": {},
   "outputs": [
    {
     "name": "stdout",
     "output_type": "stream",
     "text": [
      "[[ 0.       -0.007156  0.965491]\n",
      " [-0.        0.001486 -0.003471]\n",
      " [ 0.        0.931026  1.207929]]\n",
      "[0.1, -0.1, 0]\n"
     ]
    }
   ],
   "source": [
    "print(coordinates)\n",
    "print(translation_vector)"
   ]
  },
  {
   "cell_type": "code",
   "execution_count": 82,
   "id": "matched-ordinance",
   "metadata": {},
   "outputs": [
    {
     "name": "stdout",
     "output_type": "stream",
     "text": [
      "[[0.1, -0.107156, 0.965491], [0.1, -0.098514, -0.003471], [0.1, 0.831026, 1.207929]]\n"
     ]
    }
   ],
   "source": [
    "# using for loop\n",
    "\n",
    "new_coordinates=[]\n",
    "\n",
    "for atom in coordinates:\n",
    "    new_x = atom[0] + translation_vector[0]\n",
    "    new_y = atom[1] + translation_vector[1]\n",
    "    new_z = atom[2] + translation_vector[2]\n",
    "    new_coordinates.append([new_x, new_y, new_z])\n",
    "\n",
    "print(new_coordinates)"
   ]
  },
  {
   "cell_type": "code",
   "execution_count": 84,
   "id": "collectible-renaissance",
   "metadata": {},
   "outputs": [
    {
     "name": "stdout",
     "output_type": "stream",
     "text": [
      "[[ 0.1      -0.107156  0.965491]\n",
      " [ 0.1      -0.098514 -0.003471]\n",
      " [ 0.1       0.831026  1.207929]]\n"
     ]
    }
   ],
   "source": [
    "# using numpy broadcasting\n",
    "\n",
    "new_coordinates = coordinates + translation_vector\n",
    "\n",
    "print(new_coordinates)"
   ]
  },
  {
   "cell_type": "markdown",
   "id": "later-hollow",
   "metadata": {},
   "source": [
    "For this to work, we have to have two arrays that have a matching dimension. You can see the shape of an array using the function np.shape."
   ]
  },
  {
   "cell_type": "code",
   "execution_count": 88,
   "id": "flexible-peninsula",
   "metadata": {},
   "outputs": [
    {
     "name": "stdout",
     "output_type": "stream",
     "text": [
      "(3, 3)\n",
      "(3,)\n"
     ]
    }
   ],
   "source": [
    "print(np.shape(coordinates))\n",
    "print(np.shape(translation_vector))"
   ]
  },
  {
   "cell_type": "code",
   "execution_count": 91,
   "id": "exciting-religious",
   "metadata": {},
   "outputs": [
    {
     "name": "stdout",
     "output_type": "stream",
     "text": [
      "(3, 1)\n"
     ]
    }
   ],
   "source": [
    "row_translate = [[0.1], [0.2], [0.3]]\n",
    "print(np.shape(row_translate))"
   ]
  },
  {
   "cell_type": "code",
   "execution_count": 93,
   "id": "proprietary-marker",
   "metadata": {},
   "outputs": [
    {
     "name": "stdout",
     "output_type": "stream",
     "text": [
      "[[0.1      0.092844 1.065491]\n",
      " [0.2      0.201486 0.196529]\n",
      " [0.3      1.231026 1.507929]]\n"
     ]
    }
   ],
   "source": [
    "# row_translate can be added to coordinates becuase both have three columns\n",
    "print(coordinates + row_translate)"
   ]
  },
  {
   "cell_type": "markdown",
   "id": "unexpected-ethernet",
   "metadata": {},
   "source": [
    "### Logical comparisons\n",
    "\n",
    "We can also do logical comparisons on whole arrays. For example, to find out if values in the array are greater than 0, we can write"
   ]
  },
  {
   "cell_type": "code",
   "execution_count": 94,
   "id": "partial-interaction",
   "metadata": {},
   "outputs": [
    {
     "name": "stdout",
     "output_type": "stream",
     "text": [
      "[[False False  True]\n",
      " [False  True False]\n",
      " [False  True  True]]\n"
     ]
    }
   ],
   "source": [
    "print(coordinates > 0)"
   ]
  },
  {
   "cell_type": "markdown",
   "id": "rental-allergy",
   "metadata": {},
   "source": [
    "To get every value in the array that is greater than 0, we can use this as a list of indices we want, or a slice."
   ]
  },
  {
   "cell_type": "code",
   "execution_count": 97,
   "id": "opponent-laundry",
   "metadata": {},
   "outputs": [
    {
     "name": "stdout",
     "output_type": "stream",
     "text": [
      "[0.965491 0.001486 0.931026 1.207929]\n"
     ]
    }
   ],
   "source": [
    "greater_than_0_values = coordinates[coordinates > 0]\n",
    "print(greater_than_0_values)"
   ]
  },
  {
   "cell_type": "markdown",
   "id": "eight-basis",
   "metadata": {},
   "source": [
    "### Array Axes"
   ]
  },
  {
   "cell_type": "markdown",
   "id": "accompanied-newport",
   "metadata": {},
   "source": [
    "Imagine we wanted to calculate the geometric center of our molecule. To do this, we would need to get the average x coordinate, the average y coordinate, and the average z coordinate.\n",
    "\n",
    "In a previous lesson, we calculated the mean of each column of an array using the range function and a for loop. This was good because it reminded us of the range function and how for loops worked. However, the numpy.mean function will let us do that without a for loop.\n",
    "\n",
    "Our code for that would look something like this:"
   ]
  },
  {
   "cell_type": "code",
   "execution_count": 117,
   "id": "deadly-spanking",
   "metadata": {},
   "outputs": [
    {
     "name": "stdout",
     "output_type": "stream",
     "text": [
      "[0.0, 0.308452, 0.7233163333333333]\n"
     ]
    }
   ],
   "source": [
    "center = list()\n",
    "\n",
    "for dim in range(len(symbols)): # from 0 to 3 or 3 times\n",
    "    dim_mean = np.mean (coordinates[:,dim]) #use every raw and start by column 0 then 1 then 2\n",
    "    center.append(dim_mean)\n",
    "\n",
    "print(center)\n",
    "    \n",
    "    "
   ]
  },
  {
   "cell_type": "code",
   "execution_count": 121,
   "id": "disabled-danger",
   "metadata": {},
   "outputs": [
    {
     "data": {
      "text/plain": [
       "array([0.        , 0.308452  , 0.72331633])"
      ]
     },
     "execution_count": 121,
     "metadata": {},
     "output_type": "execute_result"
    }
   ],
   "source": [
    "# you can do this by simply adding the axis\n",
    "# in other words, the following command says:\n",
    "# calculate the mean for each column\n",
    "\n",
    "np.mean(coordinates,axis=0)"
   ]
  },
  {
   "cell_type": "markdown",
   "id": "behavioral-nylon",
   "metadata": {},
   "source": [
    "### Optional - Returning to the geometry analysis project\n",
    "In your geometry analysis project, you had to analyze an xyz file, find the bonds, and print bond lengths.\n",
    "\n",
    "We can rewrite that project using the features of numpy arrays.\n",
    "\n",
    "Recall that a solution given for a function for calculating distances between two points was the following"
   ]
  },
  {
   "cell_type": "code",
   "execution_count": 155,
   "id": "ideal-darkness",
   "metadata": {},
   "outputs": [
    {
     "data": {
      "text/plain": [
       "0.9690005374652793"
      ]
     },
     "execution_count": 155,
     "metadata": {},
     "output_type": "execute_result"
    }
   ],
   "source": [
    "#my solution \n",
    "\n",
    "def calculate_distance(atom1_coord, atom2_coord):\n",
    "    \n",
    "    \"\"\"Calculate the distance between two three-dimensional points.\"\"\"\n",
    "\n",
    "    x_distance = atom1_coord[0] - atom2_coord[0]\n",
    "    y_distance = atom1_coord[1] - atom2_coord[1]\n",
    "    z_distance = atom1_coord[2] - atom2_coord[2]\n",
    "    bond_length = np.sqrt(x_distance**2+y_distance**2+z_distance**2)\n",
    "    return bond_length\n",
    "calculate_distance(oxygen_coord,coordinates[1])"
   ]
  },
  {
   "cell_type": "code",
   "execution_count": 166,
   "id": "raising-texas",
   "metadata": {},
   "outputs": [
    {
     "data": {
      "text/plain": [
       "0.9690005374652793"
      ]
     },
     "execution_count": 166,
     "metadata": {},
     "output_type": "execute_result"
    }
   ],
   "source": [
    "# can be first updated in a better way\n",
    "\n",
    "def calculate_distance(rA, rB):\n",
    "    '''Calculate the distance between points A and B'''\n",
    "    x_dist = (rA[0] - rB[0]) ** 2\n",
    "    y_dist = (rA[1] - rB[1]) ** 2\n",
    "    z_dist = (rA[2] - rB[2]) ** 2\n",
    "    \n",
    "    distance = np.sqrt(x_dist + y_dist + z_dist)\n",
    "    \n",
    "    return distance\n",
    "calculate_distance_list(oxygen_coord,coordinates[1])\n"
   ]
  },
  {
   "cell_type": "code",
   "execution_count": 157,
   "id": "united-module",
   "metadata": {},
   "outputs": [
    {
     "data": {
      "text/plain": [
       "0.9690005374652793"
      ]
     },
     "execution_count": 157,
     "metadata": {},
     "output_type": "execute_result"
    }
   ],
   "source": [
    "# my first try\n",
    "def calculate_distance_1(rA, rB):\n",
    "    a=(coordinates[0,:]-coordinates[1,:])**2\n",
    "    b=np.sum(a)\n",
    "    c=np.sqrt(b)\n",
    "    return c\n",
    "calculate_distance_1(oxygen_coord,coordinates[1])\n"
   ]
  },
  {
   "cell_type": "code",
   "execution_count": 158,
   "id": "worst-waste",
   "metadata": {},
   "outputs": [
    {
     "data": {
      "text/plain": [
       "0.9690005374652793"
      ]
     },
     "execution_count": 158,
     "metadata": {},
     "output_type": "execute_result"
    }
   ],
   "source": [
    "# updating my code\n",
    "# you can make it into one line:\n",
    "\n",
    "def calculate_distance_1(rA, rB):\n",
    "    a=np.sqrt(np.sum((coordinates[0,:]-coordinates[1,:])**2))\n",
    "    return a\n",
    "\n",
    "calculate_distance_1(oxygen_coord,coordinates[1])"
   ]
  },
  {
   "cell_type": "code",
   "execution_count": 161,
   "id": "narrative-plain",
   "metadata": {},
   "outputs": [
    {
     "data": {
      "text/plain": [
       "0.9690005374652793"
      ]
     },
     "execution_count": 161,
     "metadata": {},
     "output_type": "execute_result"
    }
   ],
   "source": [
    "# their solution which is cleaner\n",
    "\n",
    "def calculate_distance(rA, rB):\n",
    "    AB = (rA - rB)**2\n",
    "    distance = np.sqrt(np.sum(AB))\n",
    "    return distance\n",
    "\n",
    "#calculate_distance(oxygen_coord,coordinates[1])\n",
    "\n",
    "# making it more compact\n",
    "\n",
    "def calculate_distance(rA, rB):\n",
    "    distance = np.sqrt(np.sum((rA - rB)**2))\n",
    "    return distance\n",
    "\n",
    "calculate_distance(oxygen_coord,coordinates[1])"
   ]
  },
  {
   "cell_type": "markdown",
   "id": "formed-responsibility",
   "metadata": {},
   "source": [
    "You might also have used the numpy function np.linalg.norm which calculates the magnitude of a given vector."
   ]
  },
  {
   "cell_type": "code",
   "execution_count": 162,
   "id": "round-concentration",
   "metadata": {},
   "outputs": [],
   "source": [
    "# even better\n",
    "\n",
    "def calculate_distance(rA, rB):\n",
    "   dist_vec = (rA-rB)\n",
    "   distance = np.linalg.norm(dist_vec)\n",
    "   return distance"
   ]
  },
  {
   "cell_type": "code",
   "execution_count": 169,
   "id": "objective-swedish",
   "metadata": {},
   "outputs": [],
   "source": [
    "# making the coords\n",
    "r1=coordinates[0]\n",
    "r2=coordinates[1]\n",
    "r3=coordinates[2]"
   ]
  },
  {
   "cell_type": "markdown",
   "id": "standing-target",
   "metadata": {},
   "source": [
    "Redefine your original distance function as calculate_distance_list. Using both, we see that both functions give the same answer."
   ]
  },
  {
   "cell_type": "code",
   "execution_count": 172,
   "id": "brave-drilling",
   "metadata": {},
   "outputs": [
    {
     "name": "stdout",
     "output_type": "stream",
     "text": [
      "0.9690005374652793\n",
      "0.9690005374652793\n"
     ]
    }
   ],
   "source": [
    "print(calculate_distance_list(r1, r2))\n",
    "print(calculate_distance(r1, r2))"
   ]
  },
  {
   "cell_type": "markdown",
   "id": "front-stability",
   "metadata": {},
   "source": [
    "### Key points\n",
    "NumPy arrays which are the same size use element-wise operations when added or subtracted\n",
    "\n",
    "NumPy uses something called broadcasting for arrays which are not the same size to allow arrays to be added or multiplied.\n",
    "\n",
    "NumPy has extensive documentation online - you should check this out if you need to do a computation."
   ]
  },
  {
   "cell_type": "code",
   "execution_count": null,
   "id": "younger-extraction",
   "metadata": {},
   "outputs": [],
   "source": []
  }
 ],
 "metadata": {
  "kernelspec": {
   "display_name": "Python 3",
   "language": "python",
   "name": "python3"
  },
  "language_info": {
   "codemirror_mode": {
    "name": "ipython",
    "version": 3
   },
   "file_extension": ".py",
   "mimetype": "text/x-python",
   "name": "python",
   "nbconvert_exporter": "python",
   "pygments_lexer": "ipython3",
   "version": "3.9.2"
  }
 },
 "nbformat": 4,
 "nbformat_minor": 5
}
