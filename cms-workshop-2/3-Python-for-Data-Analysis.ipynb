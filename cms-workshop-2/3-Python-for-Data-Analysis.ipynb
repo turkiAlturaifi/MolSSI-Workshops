{
 "cells": [
  {
   "cell_type": "markdown",
   "id": "everyday-vertical",
   "metadata": {},
   "source": [
    "# MolISS Workeshop 2\n",
    "# Python for Data Analysis\n",
    "you can find more info here https://education.molssi.org/python-data-analysis/01-numpy-arrays/index.html"
   ]
  },
  {
   "cell_type": "markdown",
   "id": "ecological-tribute",
   "metadata": {},
   "source": [
    "## Section 3: Using scipy for data fitting\n",
    "__Questions__\n",
    "\n",
    "How do I fit data to a specified function?\n",
    "\n",
    "How do I assess the quality of my fit?\n",
    "\n",
    "How do I determine the standard error for my fit parameters?\n",
    "\n",
    "__Objectives__\n",
    "\n",
    "Use curve_fit from scipy to fit data to a specified functional form."
   ]
  },
  {
   "cell_type": "markdown",
   "id": "characteristic-principle",
   "metadata": {},
   "source": [
    "### Data fitting\n",
    "Python is a power tool for fitting data to any functional form. You are no longer limited to the simple linear or polynominal functions you could fit in a spreadsheet program. You can also calculate the standard error for any parameter in a functional fit.\n",
    "\n",
    "The basic steps to fitting data are:\n",
    "\n",
    "1. Import the curve_fit function from scipy.\n",
    "2. Create a list or numpy array of your independent variable (your x values). You might read this data in from another source, like a CSV file.\n",
    "3. Create a list of numpy array of your depedent variables (your y values). You might read this data in from another source, like a CSV file.\n",
    "4. Create a function for the equation you want to fit. The function should accept as inputs the independent variable(s) and all the parameters to be fit.\n",
    "5. Use the function curve_fit to fit your data.\n",
    "6. Extract the fit parameters from the output of curve_fit.\n",
    "7. Use your function to calculate y values using your fit model to see how well your model fits the data.\n",
    "8. Graph your original data and the fit equation."
   ]
  },
  {
   "cell_type": "markdown",
   "id": "large-japan",
   "metadata": {},
   "source": [
    "### Fitting x, y Data\n",
    "First, import the relevant python modules that will be used."
   ]
  },
  {
   "cell_type": "code",
   "execution_count": 79,
   "id": "adapted-comedy",
   "metadata": {},
   "outputs": [],
   "source": [
    "import numpy as np\n",
    "import matplotlib.pyplot as plt\n",
    "from scipy.optimize import curve_fit"
   ]
  },
  {
   "cell_type": "code",
   "execution_count": 14,
   "id": "protecting-packaging",
   "metadata": {},
   "outputs": [
    {
     "data": {
      "text/plain": [
       "[<matplotlib.lines.Line2D at 0x11fd73e20>]"
      ]
     },
     "execution_count": 14,
     "metadata": {},
     "output_type": "execute_result"
    },
    {
     "data": {
      "image/png": "[encoded data removed]",
      "text/plain": [
       "<Figure size 432x288 with 1 Axes>"
      ]
     },
     "metadata": {
      "needs_background": "light"
     },
     "output_type": "display_data"
    }
   ],
   "source": [
    "xdata = np.arange(-10.0,11.0) # from -10 to 10\n",
    "ydata = [1.2, 4.2, 6.7, 8.3, 10.6, 11.7, 13.5, 14.5, 15.7, 16.1, 16.6, 16.0, 15.4, 14.4, \n",
    "         14.2, 12.7, 10.3, 8.6, 6.1, 3.9, 2.1]\n",
    "\n",
    "# make the y data into numpy array instaed of a list\n",
    "ydata=np.asarray(ydata)\n",
    "\n",
    "plt.plot(xdata, ydata, 'o')"
   ]
  },
  {
   "cell_type": "markdown",
   "id": "3e80be18",
   "metadata": {},
   "source": [
    "This data could probably be fit to many functional forms. We will try two different functional forms. (Looking at data and knowing what function it might fit is non-trivial and beyond the scope of this lesson. For purposes of this lesson, we will simply fit the data to given functional forms.)\n",
    "Also, check out the syntax if you want to know how I write this equation\n",
    "\n",
    "1. Gaussian Function: $y = Ae^{−Bx^{2}} $\n",
    "    \n",
    "2. Cosine Function: $ D cos(Ex) $\n",
    "    \n",
    "### Example 1 - the Gaussian function\n",
    "First, let’s fit the data to the Gaussian function. Our goal is to find the values of A and B that best fit our data. First, we need to write a python function for the Gaussian function equation. The function should accept as inputs __the independent varible (the x-values) and all the parameters that will be fit.__"
   ]
  },
  {
   "cell_type": "code",
   "execution_count": 19,
   "id": "0e89a675",
   "metadata": {},
   "outputs": [],
   "source": [
    "# define the gauss function, the fit equation\n",
    "def Gauss(x, A, B):\n",
    "    y= A * np.exp(-1*B*x**2)\n",
    "    return y"
   ]
  },
  {
   "cell_type": "markdown",
   "id": "8612e4a1",
   "metadata": {},
   "source": [
    "We will use the function curve_fit from the python module scipy.optimize to fit our data. It uses non-linear least squares to fit data to a functional form. You can learn more about curve_fit by using the help function within the Jupyter notebook or from the scipy online documentation.\n",
    "\n",
    "The curve_fit function has three required inputs: the function you want to fit, the x-data, and the y-data you are fitting. There are two outputs. The first is an array of the optimal values of the parameters. The second a matrix of the estimated covariance of the parameters from which you can calculate the standard error for the parameters."
   ]
  },
  {
   "cell_type": "code",
   "execution_count": 20,
   "id": "ce497e64",
   "metadata": {},
   "outputs": [
    {
     "name": "stderr",
     "output_type": "stream",
     "text": [
      "<ipython-input-19-07a6b7956306>:3: RuntimeWarning: overflow encountered in exp\n",
      "  y= A * np.exp(-1*B*x**2)\n"
     ]
    }
   ],
   "source": [
    "parameters, covariance = curve_fit(Gauss, xdata, ydata)"
   ]
  },
  {
   "cell_type": "markdown",
   "id": "166f0f31",
   "metadata": {},
   "source": [
    "The optimized values of A and B are now stored in the list parameters. From this, we can extract our best fit values of A and B and print them."
   ]
  },
  {
   "cell_type": "code",
   "execution_count": 23,
   "id": "6c83eaee",
   "metadata": {},
   "outputs": [
    {
     "name": "stdout",
     "output_type": "stream",
     "text": [
      "16.934286340519687 0.015739600927241554\n"
     ]
    }
   ],
   "source": [
    "fit_A = parameters[0]\n",
    "fit_B = parameters[1]\n",
    "print(fit_A,fit_B)"
   ]
  },
  {
   "cell_type": "markdown",
   "id": "4b074824",
   "metadata": {},
   "source": [
    "Now we want to see how well our fit equation matched our data. To do this, we will calculate values of y, using our function and the fit values of A and B, and then we will make a plot to compare those calculated values to our data."
   ]
  },
  {
   "cell_type": "code",
   "execution_count": 26,
   "id": "0fd3e92c",
   "metadata": {},
   "outputs": [
    {
     "data": {
      "text/plain": [
       "<matplotlib.legend.Legend at 0x11f664580>"
      ]
     },
     "execution_count": 26,
     "metadata": {},
     "output_type": "execute_result"
    },
    {
     "data": {
      "image/png": "[encoded data removed]",
      "text/plain": [
       "<Figure size 432x288 with 1 Axes>"
      ]
     },
     "metadata": {
      "needs_background": "light"
     },
     "output_type": "display_data"
    }
   ],
   "source": [
    "# calculting y values using the function and the fit values \n",
    "fit_y = Gauss(xdata, fit_A, fit_B)\n",
    "\n",
    "#plot the data\n",
    "plt.plot(xdata, ydata, 'o', label='data')\n",
    "\n",
    "#the fit equation\n",
    "plt.plot(xdata, fit_y, '-', label='fit')\n",
    "\n",
    "plt.legend()\n"
   ]
  },
  {
   "cell_type": "markdown",
   "id": "7174b7c6",
   "metadata": {},
   "source": [
    "Looks like a good fit!\n",
    "\n",
    "To calculate the standard error of the parameters from the covariance, you take the square root of the diagonal elements of the matrix. You can do this in one line using functions from numpy."
   ]
  },
  {
   "cell_type": "code",
   "execution_count": 33,
   "id": "ba5aee07",
   "metadata": {},
   "outputs": [
    {
     "name": "stdout",
     "output_type": "stream",
     "text": [
      "[[1.27149879e-01 1.88214488e-04]\n",
      " [1.88214488e-04 7.48572383e-07]]\n",
      "0.12714987864782426 7.485723832035091e-07\n"
     ]
    }
   ],
   "source": [
    "print(covariance)\n",
    "print(covariance[0,0],covariance[1,1])"
   ]
  },
  {
   "cell_type": "code",
   "execution_count": 39,
   "id": "d9d6d847",
   "metadata": {},
   "outputs": [
    {
     "name": "stdout",
     "output_type": "stream",
     "text": [
      "0.3565808164327187 0.000865200776238388\n"
     ]
    }
   ],
   "source": [
    "# find standard error\n",
    "# one way which is less effecnit\n",
    "SE_A, SE_B = np.sqrt(covariance[0,0]), np.sqrt(covariance[1,1])\n",
    "print(SE_A, SE_B)"
   ]
  },
  {
   "cell_type": "code",
   "execution_count": 56,
   "id": "b6fcd918",
   "metadata": {},
   "outputs": [
    {
     "name": "stdout",
     "output_type": "stream",
     "text": [
      "The value of A is 16.93429 with a standard error of 3.88195.\n",
      "The value of B is 0.01574 with a standard error of 0.86423.\n"
     ]
    }
   ],
   "source": [
    "# another way most effient\n",
    "SE = np.sqrt(np.diag(covariance))\n",
    "#print(SE)\n",
    "SE_A, SE_B = SE[0], SE[1]\n",
    "\n",
    "# print values of pramarter\n",
    "\n",
    "print(F'The value of A is{fit_A: .5f} with a standard error of{SE_A: .5f}.')\n",
    "print(F'The value of B is{fit_B: .5f} with a standard error of{SE_B: .5f}.')\n"
   ]
  },
  {
   "cell_type": "markdown",
   "id": "749d6a1d",
   "metadata": {},
   "source": [
    "### Example 2 - the cosine function\n",
    "The cosine function proves to be a bit trickier. If we approach the problem as we do above, we see from the graph that we don’t get a good fit."
   ]
  },
  {
   "cell_type": "code",
   "execution_count": 52,
   "id": "20074318",
   "metadata": {},
   "outputs": [],
   "source": [
    "def cos_func(x, D, E):\n",
    "    y = D * np.cos(E*x)\n",
    "    return y"
   ]
  },
  {
   "cell_type": "code",
   "execution_count": 57,
   "id": "a81036b6",
   "metadata": {},
   "outputs": [
    {
     "name": "stdout",
     "output_type": "stream",
     "text": [
      "The value of D is 0.68226 with a standard error of 3.88195.\n",
      "The value of E is 0.85835 with a standard error of 0.86423.\n"
     ]
    },
    {
     "data": {
      "image/png": "[encoded data removed]",
      "text/plain": [
       "<Figure size 432x288 with 1 Axes>"
      ]
     },
     "metadata": {
      "needs_background": "light"
     },
     "output_type": "display_data"
    }
   ],
   "source": [
    "parameters, covariance = curve_fit(cos_func, xdata, ydata)\n",
    "\n",
    "fit_D, fit_E = parameters[0], parameters[1]\n",
    "\n",
    "fit_cos = cos_func(xdata, fit_D, fit_E)\n",
    "\n",
    "plt.plot(xdata, ydata, 'o', label= 'data')\n",
    "plt.plot(xdata, fit_cos, '-', label= 'fit cos')\n",
    "\n",
    "SE_D, SE_E = np.sqrt(covariance[0,0]), np.sqrt(covariance[1,1])\n",
    "\n",
    "print(F'The value of D is{fit_D: .5f} with a standard error of{SE_D: .5f}.')\n",
    "print(F'The value of E is{fit_E: .5f} with a standard error of{SE_E: .5f}.')\n"
   ]
  },
  {
   "cell_type": "markdown",
   "id": "0e482449",
   "metadata": {},
   "source": [
    "To fix this, we need to give a guess for what we think our parameters are. Thinking about the form of the cosine function, the height of the function is controlled by the D parameter. Looking at our graph, it seems the value of D is somewhere between 15 and 17, so we will guess 16. Similarly, the E parameter tells us how many cycles occur over the 0 to 2 $\\pi$ interval. This is a very wide graph; there is clearly much less than one cycle between 0 and 2 $\\pi$, so we will guess that E is 0.1. To incorporate these guesses into our code, we will create a new array called guess. We then specify our guess when we call curve_fit."
   ]
  },
  {
   "cell_type": "code",
   "execution_count": 63,
   "id": "c4b30499",
   "metadata": {},
   "outputs": [
    {
     "name": "stdout",
     "output_type": "stream",
     "text": [
      "The value of D is 16.31473 with a standard error of 0.11091.\n",
      "The value of E is 0.14649 with a standard error of 0.00090.\n"
     ]
    },
    {
     "data": {
      "image/png": "[encoded data removed]",
      "text/plain": [
       "<Figure size 432x288 with 1 Axes>"
      ]
     },
     "metadata": {
      "needs_background": "light"
     },
     "output_type": "display_data"
    }
   ],
   "source": [
    "guess = [16, 0.1]\n",
    "\n",
    "parameters, covariance = curve_fit(cos_func, xdata, ydata, p0=guess) # intial guess for parameters\n",
    "\n",
    "# the rest is the same\n",
    "\n",
    "fit_D, fit_E = parameters[0], parameters[1]\n",
    "\n",
    "fit_cos = cos_func(xdata, fit_D, fit_E)\n",
    "\n",
    "plt.plot(xdata, ydata, 'o', label= 'data')\n",
    "plt.plot(xdata, fit_cos, '-', label= 'fit cos')\n",
    "\n",
    "SE_D, SE_E = np.sqrt(covariance[0,0]), np.sqrt(covariance[1,1])\n",
    "\n",
    "print(F'The value of D is{fit_D: .5f} with a standard error of{SE_D: .5f}.')\n",
    "print(F'The value of E is{fit_E: .5f} with a standard error of{SE_E: .5f}.')\n"
   ]
  },
  {
   "cell_type": "markdown",
   "id": "9d4adc75",
   "metadata": {},
   "source": [
    "Now that looks like a good fit!\n",
    "\n",
    "Frequently, you will have to adjust your guesses to get a good fit for your data. If you understand the physical significance of your data and the equation you are trying to fit, you will have an easier time fitting your data."
   ]
  },
  {
   "cell_type": "markdown",
   "id": "c07b02bb",
   "metadata": {},
   "source": [
    "### Exercise - Fitting a Lennard-Jones potential\n",
    "\n",
    "Consider the following data computed for a helium dimer. The interaction energy at several different internuclear separations is given. Fit this data to a Lennard-Jones potential.\n",
    "\n",
    "$ V = 4\\epsilon[(\\sigma/r)^{12} - (\\sigma/r)^{6}]$"
   ]
  },
  {
   "cell_type": "code",
   "execution_count": 68,
   "id": "d72ba15c",
   "metadata": {},
   "outputs": [],
   "source": [
    "# Internuclear separation in angstroms\n",
    "distances = [2.875, 3.0, 3.125, 3.25, 3.375, 3.5, 3.75, 4.0, 4.5, 5.0, 6.0]\n",
    "# Energy in Wavenumbers\n",
    "energies = [0.35334378061169025, -2.7260131253801405, -4.102738968283382, -4.557042640311599, \n",
    "            -4.537519193684069, -4.296388508321034, -3.6304745046204117, -3.0205368595885536, \n",
    "            -2.1929538006724814, -1.7245616790238782, -1.2500789753171557]"
   ]
  },
  {
   "cell_type": "code",
   "execution_count": 75,
   "id": "c04645c6",
   "metadata": {},
   "outputs": [
    {
     "name": "stdout",
     "output_type": "stream",
     "text": [
      "The value of epsilon is 4.857 wavenumbers with a standard error of 0.30816.\n",
      "The value of sigma is 2.893 angstroms with a standard error of 0.01333.\n"
     ]
    },
    {
     "data": {
      "image/png": "[encoded data removed]",
      "text/plain": [
       "<Figure size 432x288 with 1 Axes>"
      ]
     },
     "metadata": {
      "needs_background": "light"
     },
     "output_type": "display_data"
    }
   ],
   "source": [
    "# make them into arrays\n",
    "distances = np.asarray(distances)\n",
    "energies = np.asarray(energies)\n",
    "\n",
    "# plot them \n",
    "plt.plot(distances,energies, 'o', label='data')\n",
    "\n",
    "# define a function\n",
    "def LJP(distances, eps, sigma):\n",
    "    V = 4*eps *((sigma/distances)**12 - (sigma/distances)**6)\n",
    "    return V\n",
    "\n",
    "# use the curve_fit\n",
    "parameters, covariance = curve_fit(LJP, distances, energies)\n",
    "fit_eps, fit_sigma = parameters[0], parameters[1]\n",
    "\n",
    "# fit the function\n",
    "fit_LJP = LJP(distances, fit_eps, fit_sigma)\n",
    "\n",
    "#plot the fit\n",
    "plt.plot(distances, fit_LJP, '-', label='fit')\n",
    "\n",
    "#find SE\n",
    "SE_eps, SE_sigma = np.sqrt(covariance[0,0]), np.sqrt(covariance[1,1])\n",
    "\n",
    "#print\n",
    "print(F'The value of epsilon is{fit_eps: .3f} wavenumbers with a standard error of{SE_eps: .5f}.')\n",
    "print(F'The value of sigma is{fit_sigma: .3f} angstroms with a standard error of{SE_sigma: .5f}.')"
   ]
  },
  {
   "cell_type": "markdown",
   "id": "5c3ce21b",
   "metadata": {},
   "source": [
    "## KEY POINTS\n",
    "Recasting your data to numpy arrays lets you utilize features like broadcasting, which can be helpful in evaluating functions.\n",
    "\n",
    "If the initial fit model does not match the data well, use the bounds argument of fit_curve to guess a range of values for the fit parameters."
   ]
  },
  {
   "cell_type": "code",
   "execution_count": null,
   "id": "d68ed154",
   "metadata": {},
   "outputs": [],
   "source": []
  }
 ],
 "metadata": {
  "kernelspec": {
   "display_name": "Python 3",
   "language": "python",
   "name": "python3"
  },
  "language_info": {
   "codemirror_mode": {
    "name": "ipython",
    "version": 3
   },
   "file_extension": ".py",
   "mimetype": "text/x-python",
   "name": "python",
   "nbconvert_exporter": "python",
   "pygments_lexer": "ipython3",
   "version": "3.9.4"
  }
 },
 "nbformat": 4,
 "nbformat_minor": 5
}
